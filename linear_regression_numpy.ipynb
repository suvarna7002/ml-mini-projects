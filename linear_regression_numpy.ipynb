{
 "cells": [
  {
   "cell_type": "markdown",
   "id": "aeba18bc-17ea-4025-ad81-96a3351d2dc8",
   "metadata": {},
   "source": [
    "#Project: Linear Regression from Scratch using NumPy arrays"
   ]
  },
  {
   "cell_type": "code",
   "execution_count": 51,
   "id": "5195add5-f88a-44ed-a278-9adfda6ab584",
   "metadata": {},
   "outputs": [],
   "source": [
    "import numpy as np\n",
    "import matplotlib.pyplot as plt\n",
    "import pandas as pd\n",
    "import copy\n",
    "import math\n",
    "%matplotlib inline"
   ]
  },
  {
   "cell_type": "markdown",
   "id": "c70a800b-bf38-482a-baf2-576e0725e274",
   "metadata": {},
   "source": [
    "#Step 1: Loading Data and converting from pandas series -> numpy array"
   ]
  },
  {
   "cell_type": "code",
   "execution_count": 52,
   "id": "108f08b1-234a-499a-9fe2-94ea33c68710",
   "metadata": {},
   "outputs": [],
   "source": [
    "data = pd.read_csv(r\"C:\\Users\\chaak\\Downloads\\Salary_dataset.csv\")"
   ]
  },
  {
   "cell_type": "code",
   "execution_count": 40,
   "id": "97759ce4-7705-4b17-8c50-5ac667529399",
   "metadata": {},
   "outputs": [],
   "source": [
    "x_raw = data[\"YearsExperience\"]\n",
    "y_raw = data[\"Salary\"]"
   ]
  },
  {
   "cell_type": "code",
   "execution_count": 41,
   "id": "f5c6d8cd-4649-4d75-b270-df6c0b3d1f56",
   "metadata": {},
   "outputs": [],
   "source": [
    "x_train = x_raw.values.reshape(-1, 1)\n",
    "y_train = y_raw.values.reshape(-1, 1)"
   ]
  },
  {
   "cell_type": "markdown",
   "id": "62daba27-8821-4a4d-b070-fe68f9cc541a",
   "metadata": {},
   "source": [
    "#Step 2: Data visualization using scatter plot"
   ]
  },
  {
   "cell_type": "code",
   "execution_count": 42,
   "id": "5abcae7e-c043-44ab-b342-fda0f7efaad5",
   "metadata": {},
   "outputs": [
    {
     "data": {
      "image/png": "[encoded data removed]",
      "text/plain": [
       "<Figure size 640x480 with 1 Axes>"
      ]
     },
     "metadata": {},
     "output_type": "display_data"
    }
   ],
   "source": [
    "plt.scatter(x_train, y_train, marker = 'x', c='r')\n",
    "plt.title(\"Salary vs. Years of Experience\")\n",
    "plt.ylabel(\"Salary\")\n",
    "plt.xlabel(\"Years of Experience\")\n",
    "plt.show()"
   ]
  },
  {
   "cell_type": "markdown",
   "id": "d87a8d08-838d-4e8b-9777-e32ff560b497",
   "metadata": {},
   "source": [
    "#Step 3: Creating a Cost Function to analyze error\n",
    "$$\n",
    "    f_{wb}(x^{(i)}) =  wx^{(i)} + b \n",
    "    $$\n",
    "\n",
    "$$cost^{(i)} =  (f_{wb} - y^{(i)})^2$$\n",
    "$$J(\\mathbf{w},b) = \\frac{1}{2m} \\sum\\limits_{i = 0}^{m-1} cost^{(i)}$$\n"
   ]
  },
  {
   "cell_type": "code",
   "execution_count": 43,
   "id": "d0b70546-e831-4382-8d0f-a8fc92535fb3",
   "metadata": {},
   "outputs": [],
   "source": [
    "def compute_cost(x, y, w, b):\n",
    "    m = x.shape[0]\n",
    "    cost = 0\n",
    "    for i in range(m):\n",
    "        cost += ((w*x[i] + b) - y[i])**2\n",
    "\n",
    "    cost = (cost) / (2*m)\n",
    "    return cost\n",
    "        "
   ]
  },
  {
   "cell_type": "markdown",
   "id": "25416bde-7c70-4fac-83de-28fa728332f7",
   "metadata": {},
   "source": [
    "#Step 4: Creating Gradient Descent function to optimize weights\n",
    "\n",
    "$$\\begin{align*}& \\text{repeat until convergence:} \\; \\lbrace \\newline \\; & \\phantom {0000} b := b -  \\alpha \\frac{\\partial J(w,b)}{\\partial b} \\newline       \\; & \\phantom {0000} w := w -  \\alpha \\frac{\\partial J(w,b)}{\\partial w} \\tag{1}  \\; & \n",
    "\\newline & \\rbrace\\end{align*}$$\n",
    "\n",
    "$$\n",
    "\\frac{\\partial J(w,b)}{\\partial b}  = \\frac{1}{m} \\sum\\limits_{i = 0}^{m-1} (f_{w,b}(x^{(i)}) - y^{(i)}) \\tag{2}\n",
    "$$\n",
    "$$\n",
    "\\frac{\\partial J(w,b)}{\\partial w}  = \\frac{1}{m} \\sum\\limits_{i = 0}^{m-1} (f_{w,b}(x^{(i)}) -y^{(i)})x^{(i)} \\tag{3}\n",
    "$$"
   ]
  },
  {
   "cell_type": "markdown",
   "id": "60d8dbb6-410f-497e-ac31-eb29708cdd2b",
   "metadata": {},
   "source": [
    "First Function will compute the gradient of J:"
   ]
  },
  {
   "cell_type": "code",
   "execution_count": 44,
   "id": "098ffae3-8337-4fc9-a1e2-bdfb92cfe77f",
   "metadata": {},
   "outputs": [],
   "source": [
    "def compute_gradient(x, y, w, b):\n",
    "    m = x.shape[0]\n",
    "    dj_dw = 0\n",
    "    dj_db = 0\n",
    "\n",
    "    for i in range(m):\n",
    "        dj_dw += ((w*x[i] + b) - y[i]) * x[i]\n",
    "        dj_db += ((w*x[i] + b) - y[i])\n",
    "        \n",
    "    dj_dw = dj_dw / m\n",
    "    dj_db = dj_db / m\n",
    "\n",
    "    return dj_dw, dj_db"
   ]
  },
  {
   "cell_type": "markdown",
   "id": "fe3aee1f-6ce6-4da6-ad88-96e705f6f13a",
   "metadata": {},
   "source": [
    "This function will optimize weights using batch gradient descent:"
   ]
  },
  {
   "cell_type": "code",
   "execution_count": 45,
   "id": "3da08778-a38f-4440-b8f1-fbf8eea98a68",
   "metadata": {},
   "outputs": [],
   "source": [
    "#Parameters: (X data, Y data, W initail, B initial, cost func, grad func, learning curve, iterations)\n",
    "def gradient_descent(x, y, w_in, b_in, cost_function, grad_function, lr, num_iters):\n",
    "    m = x.shape[0]\n",
    "\n",
    "    #Array to store cost J and weight's w at each iteration (used for graphing)\n",
    "    J_runs = []\n",
    "    w_runs = []\n",
    "    w = copy.deepcopy(w_in)\n",
    "    b = b_in\n",
    "    \n",
    "    for i in range(num_iters):\n",
    "        dj_dw, dj_db = grad_function(x,y,w,b)\n",
    "        w = w - (lr * dj_dw)\n",
    "        b = b - (lr * dj_db)\n",
    "\n",
    "        #Saves Cost J at each iteration\n",
    "        if i < 100000:       #prevent resource exhaustion\n",
    "            cost = cost_function(x,y,w,b)\n",
    "            J_runs.append(cost)\n",
    "\n",
    "        #prints cost every 10 intervals\n",
    "        if i % math.ceil(num_iters / 10) == 0:\n",
    "            w_runs.append(w)\n",
    "            #print(\"J_runs[-1] =\", J_runs[-1])\n",
    "            #print(\"Shape:\", np.shape(J_runs[-1]))\n",
    "            cost_to_print = np.mean(J_runs[-1])  \n",
    "            print(f\"Iteration {i:4}: Cost {cost_to_print:8.2f}\")\n",
    "\n",
    "            #print(f\"Iteration {i:4}: Cost {J_runs[-1].item():8.2f}\")\n",
    "\n",
    "\n",
    "\n",
    "\n",
    "    return w, b, J_runs, w_runs"
   ]
  },
  {
   "cell_type": "markdown",
   "id": "0797edd4-fcae-47eb-aa13-71087ce92160",
   "metadata": {},
   "source": [
    "Now with all the functions defined, we can begin training by choosing random weights, and adjusting the learning curve as needed to ensure the cost converges"
   ]
  },
  {
   "cell_type": "code",
   "execution_count": 46,
   "id": "f3df57f8-425b-4e9d-895a-10832eb27bdb",
   "metadata": {},
   "outputs": [
    {
     "name": "stdout",
     "output_type": "stream",
     "text": [
      "Iteration    0: Cost 1297963218.56\n",
      "Iteration  150: Cost 45381207.51\n",
      "Iteration  300: Cost 31682912.19\n",
      "Iteration  450: Cost 24292859.57\n",
      "Iteration  600: Cost 20306022.06\n",
      "Iteration  750: Cost 18155174.94\n",
      "Iteration  900: Cost 16994820.83\n",
      "Iteration 1050: Cost 16368824.83\n",
      "Iteration 1200: Cost 16031108.12\n",
      "Iteration 1350: Cost 15848914.33\n",
      "w,b found by gradient descent: [9604.00088843] [23798.65974533]\n"
     ]
    }
   ],
   "source": [
    "initial_w = 0\n",
    "initial_b = 0\n",
    "\n",
    "iterations = 1500\n",
    "alpha = 0.01\n",
    "\n",
    "\n",
    "w,b,_,_ = gradient_descent(x_train ,y_train, initial_w, initial_b, \n",
    "                     compute_cost, compute_gradient, alpha, iterations)\n",
    "print(\"w,b found by gradient descent:\", w, b)"
   ]
  },
  {
   "cell_type": "markdown",
   "id": "e5aa5164-4d17-478b-b12e-c0fbfb0d851e",
   "metadata": {},
   "source": [
    "We can now use the final parameters from the gradietn descent to plot the linear fit.\n",
    "To calculate predictions on the entire dataset, we can loop through all the training examples and calculate the prediction for each example:"
   ]
  },
  {
   "cell_type": "code",
   "execution_count": 47,
   "id": "d410eee7-7a7f-4283-b0e0-847d716d362f",
   "metadata": {},
   "outputs": [],
   "source": [
    "#Extract the scalar values from w and b arrays\n",
    "w_scalar = w.item()\n",
    "b_scalar = b.item()\n",
    "\n",
    "m = x_train.shape[0]\n",
    "predicted = np.zeros(m)\n",
    "\n",
    "for i in range(m):\n",
    "    predicted[i] = w_scalar * x_train[i].item() + b_scalar\n"
   ]
  },
  {
   "cell_type": "markdown",
   "id": "e3406263-385f-4160-8bad-13317c5a7388",
   "metadata": {},
   "source": [
    "Here is the plot of the predicted values to see the linear fit:"
   ]
  },
  {
   "cell_type": "code",
   "execution_count": 50,
   "id": "0e900b99-9e9b-4b4e-8888-1bd830a800ec",
   "metadata": {
    "scrolled": true
   },
   "outputs": [
    {
     "data": {
      "image/png": "[encoded data removed]",
      "text/plain": [
       "<Figure size 640x480 with 1 Axes>"
      ]
     },
     "metadata": {},
     "output_type": "display_data"
    }
   ],
   "source": [
    "plt.plot(x_train, predicted, c = \"b\")\n",
    "plt.scatter(x_train, y_train, marker = 'x', c='r')\n",
    "plt.title(\"Salary vs. Years of Experience\")\n",
    "plt.ylabel(\"Salary\")\n",
    "plt.xlabel(\"Years of Experience\")\n",
    "plt.show()"
   ]
  },
  {
   "cell_type": "code",
   "execution_count": 49,
   "id": "3549c6ec-fc7f-4c31-8fdc-c34aa2b8d37f",
   "metadata": {},
   "outputs": [
    {
     "name": "stdout",
     "output_type": "stream",
     "text": [
      "With 4 years of experience, your expected salary is: $62214.66\n"
     ]
    }
   ],
   "source": [
    "predict4 =  w*4 + b\n",
    "print(f'With 4 years of experience, your expected salary is: ${round(predict4.item(), 2)}')"
   ]
  },
  {
   "cell_type": "markdown",
   "id": "f3990821-c537-40ef-8b30-e971e1cb6477",
   "metadata": {},
   "source": [
    "## Conclusion\n",
    "\n",
    "The linear regression model performed effectively in estimating salaries based on years of experience. The gradient descent algorithm successfully minimized the cost function, resulting in a model with well-fitted parameters.\n",
    "\n",
    "While the current model captures a strong linear relationship, it can be further improved by extending it to a multivariable linear regression. Incorporating additional factors such as education level, industry, job location, and certifications could provide a more accurate and realistic salary prediction model.\n",
    "\n",
    "This project helped reinforce core ML concepts such as loss functions, gradient descent, and model evaluation — all implemented from scratch using only NumPy.\n"
   ]
  }
 ],
 "metadata": {
  "kernelspec": {
   "display_name": "Python [conda env:base] *",
   "language": "python",
   "name": "conda-base-py"
  },
  "language_info": {
   "codemirror_mode": {
    "name": "ipython",
    "version": 3
   },
   "file_extension": ".py",
   "mimetype": "text/x-python",
   "name": "python",
   "nbconvert_exporter": "python",
   "pygments_lexer": "ipython3",
   "version": "3.12.7"
  }
 },
 "nbformat": 4,
 "nbformat_minor": 5
}
